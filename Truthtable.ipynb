{
  "nbformat": 4,
  "nbformat_minor": 0,
  "metadata": {
    "colab": {
      "name": "Truthtable.ipynb",
      "provenance": [],
      "authorship_tag": "ABX9TyMmYo/P0RO7mbVhaAecfU4D",
      "include_colab_link": true
    },
    "kernelspec": {
      "name": "python3",
      "display_name": "Python 3"
    },
    "language_info": {
      "name": "python"
    }
  },
  "cells": [
    {
      "cell_type": "markdown",
      "metadata": {
        "id": "view-in-github",
        "colab_type": "text"
      },
      "source": [
        "<a href=\"https://colab.research.google.com/github/dennis-199/Calculator/blob/master/Truthtable.ipynb\" target=\"_parent\"><img src=\"https://colab.research.google.com/assets/colab-badge.svg\" alt=\"Open In Colab\"/></a>"
      ]
    },
    {
      "cell_type": "code",
      "metadata": {
        "colab": {
          "base_uri": "https://localhost:8080/"
        },
        "id": "cZOFbvSKGy8C",
        "outputId": "16ad055a-9b1c-4049-9138-63a354055f1a"
      },
      "source": [
        "!pip install truth-table-generator"
      ],
      "execution_count": null,
      "outputs": [
        {
          "output_type": "stream",
          "name": "stdout",
          "text": [
            "Collecting truth-table-generator\n",
            "  Downloading truth_table_generator-1.1.2.tar.gz (14 kB)\n",
            "Requirement already satisfied: numpy in /usr/local/lib/python3.7/dist-packages (from truth-table-generator) (1.19.5)\n",
            "Requirement already satisfied: pandas in /usr/local/lib/python3.7/dist-packages (from truth-table-generator) (1.1.5)\n",
            "Collecting PTable\n",
            "  Downloading PTable-0.9.2.tar.gz (31 kB)\n",
            "Requirement already satisfied: pyparsing in /usr/local/lib/python3.7/dist-packages (from truth-table-generator) (2.4.7)\n",
            "Requirement already satisfied: tabulate in /usr/local/lib/python3.7/dist-packages (from truth-table-generator) (0.8.9)\n",
            "Requirement already satisfied: jinja2 in /usr/local/lib/python3.7/dist-packages (from truth-table-generator) (2.11.3)\n",
            "Requirement already satisfied: MarkupSafe>=0.23 in /usr/local/lib/python3.7/dist-packages (from jinja2->truth-table-generator) (2.0.1)\n",
            "Requirement already satisfied: python-dateutil>=2.7.3 in /usr/local/lib/python3.7/dist-packages (from pandas->truth-table-generator) (2.8.2)\n",
            "Requirement already satisfied: pytz>=2017.2 in /usr/local/lib/python3.7/dist-packages (from pandas->truth-table-generator) (2018.9)\n",
            "Requirement already satisfied: six>=1.5 in /usr/local/lib/python3.7/dist-packages (from python-dateutil>=2.7.3->pandas->truth-table-generator) (1.15.0)\n",
            "Building wheels for collected packages: truth-table-generator, PTable\n",
            "  Building wheel for truth-table-generator (setup.py) ... \u001b[?25l\u001b[?25hdone\n",
            "  Created wheel for truth-table-generator: filename=truth_table_generator-1.1.2-py3-none-any.whl size=13961 sha256=c9480113a0ab24cd067484ae30e642747e03626d9af11e15f5f726cd18f10397\n",
            "  Stored in directory: /root/.cache/pip/wheels/9a/55/b5/77f5756832494eafda92c7a94c1365ac31088a18a3a97dd480\n",
            "  Building wheel for PTable (setup.py) ... \u001b[?25l\u001b[?25hdone\n",
            "  Created wheel for PTable: filename=PTable-0.9.2-py3-none-any.whl size=22924 sha256=2890014a513a122d8a13a9c16914b7bed2030c4380e835115062bf03f0558a15\n",
            "  Stored in directory: /root/.cache/pip/wheels/33/df/2f/674985b3f8a2de3f96357d1eadef5110f74fa91b3785e52a54\n",
            "Successfully built truth-table-generator PTable\n",
            "Installing collected packages: PTable, truth-table-generator\n",
            "Successfully installed PTable-0.9.2 truth-table-generator-1.1.2\n"
          ]
        }
      ]
    },
    {
      "cell_type": "code",
      "metadata": {
        "colab": {
          "base_uri": "https://localhost:8080/"
        },
        "id": "4jGgSzKmHijb",
        "outputId": "0c49a28a-363b-4cdf-8371-63728f791a71"
      },
      "source": [
        "import ttg\n",
        "print(ttg.Truths(['p','q'], ints=False))\n"
      ],
      "execution_count": null,
      "outputs": [
        {
          "output_type": "stream",
          "name": "stdout",
          "text": [
            "+-------+-------+\n",
            "|   p   |   q   |\n",
            "|-------+-------|\n",
            "| True  | True  |\n",
            "| True  | False |\n",
            "| False | True  |\n",
            "| False | False |\n",
            "+-------+-------+\n"
          ]
        }
      ]
    },
    {
      "cell_type": "code",
      "metadata": {
        "colab": {
          "base_uri": "https://localhost:8080/"
        },
        "id": "zJxu5BpjLSMB",
        "outputId": "66b320c8-be25-4308-90dc-68f39fa003cb"
      },
      "source": [
        "print(ttg.Truths(['p','q','r'],['-p','-p and r =>q'],ints=False))"
      ],
      "execution_count": null,
      "outputs": [
        {
          "output_type": "stream",
          "name": "stdout",
          "text": [
            "+-------+-------+-------+-------+----------------+\n",
            "|   p   |   q   |   r   |  -p   |  -p and r =>q  |\n",
            "|-------+-------+-------+-------+----------------|\n",
            "| True  | True  | True  | False |      True      |\n",
            "| True  | True  | False | False |      True      |\n",
            "| True  | False | True  | False |      True      |\n",
            "| True  | False | False | False |      True      |\n",
            "| False | True  | True  | True  |      True      |\n",
            "| False | True  | False | True  |      True      |\n",
            "| False | False | True  | True  |     False      |\n",
            "| False | False | False | True  |      True      |\n",
            "+-------+-------+-------+-------+----------------+\n"
          ]
        }
      ]
    },
    {
      "cell_type": "code",
      "metadata": {
        "colab": {
          "base_uri": "https://localhost:8080/"
        },
        "id": "PDzrgDkrUHU-",
        "outputId": "9f489402-fb5e-49a2-eb35-9824804672e8"
      },
      "source": [
        "print(ttg.Truths(['p','q','r'],['p','-q or r =>q'], ints=False))"
      ],
      "execution_count": null,
      "outputs": [
        {
          "output_type": "stream",
          "name": "stdout",
          "text": [
            "+-------+-------+-------+-------+---------------+\n",
            "|   p   |   q   |   r   |   p   |  -q or r =>q  |\n",
            "|-------+-------+-------+-------+---------------|\n",
            "| True  | True  | True  | True  |     True      |\n",
            "| True  | True  | False | True  |     True      |\n",
            "| True  | False | True  | True  |     False     |\n",
            "| True  | False | False | True  |     False     |\n",
            "| False | True  | True  | False |     True      |\n",
            "| False | True  | False | False |     True      |\n",
            "| False | False | True  | False |     False     |\n",
            "| False | False | False | False |     False     |\n",
            "+-------+-------+-------+-------+---------------+\n"
          ]
        }
      ]
    }
  ]
}